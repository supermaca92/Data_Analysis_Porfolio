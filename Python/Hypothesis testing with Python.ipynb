{
 "cells": [
  {
   "cell_type": "markdown",
   "id": "1b7fec96",
   "metadata": {},
   "source": [
    "# OVERVIEW\n",
    "\n",
    "We will use Python to simulate taking a random sample of 20 districts in each state and conduct a two-sample t-test based on the sample data"
   ]
  },
  {
   "cell_type": "code",
   "execution_count": 1,
   "id": "0ba5ed0d",
   "metadata": {},
   "outputs": [],
   "source": [
    "import pandas as pd\n",
    "from scipy import stats\n",
    "\n",
    "education_districtwise = pd.read_csv(\"education_districtwise.csv\")\n",
    "education_districtwise = education_districtwise.dropna()"
   ]
  },
  {
   "cell_type": "markdown",
   "id": "36b0f716",
   "metadata": {},
   "source": [
    "## EXPLORE THE DATA\n",
    "\n",
    "We are going to use STATE21 and STATE28 as our examples. "
   ]
  },
  {
   "cell_type": "code",
   "execution_count": 3,
   "id": "1ea770d4",
   "metadata": {},
   "outputs": [],
   "source": [
    "state21 = education_districtwise[education_districtwise['STATNAME'] == 'STATE21']\n",
    "state28 = education_districtwise[education_districtwise['STATNAME'] == 'STATE28']"
   ]
  },
  {
   "cell_type": "markdown",
   "id": "eb711005",
   "metadata": {},
   "source": [
    "## SIMULATE RANDOM SAMPLING\n",
    "\n",
    "\n",
    "Now that you have organized your data, use the `sample()` function to take a random sample of 20 districts from each state. First, name a new variable: `sampled_state21`. Then, enter the arguments of the `sample()` function. \n",
    "\n",
    "*   `n`: Your sample size is `20`. \n",
    "*   `replace`: Choose `True` because you are sampling with replacement.\n",
    "*   `random_state`: Choose an arbitrary number for the random seed – how about `13490`. "
   ]
  },
  {
   "cell_type": "code",
   "execution_count": 5,
   "id": "4d861c1e",
   "metadata": {},
   "outputs": [],
   "source": [
    "sampled_state21 = state21.sample(n = 20,\n",
    "                                replace = True,\n",
    "                                random_state = 13490)\n",
    "\n",
    "sampled_state28 = state28.sample(n = 20,\n",
    "                                replace = True,\n",
    "                                random_state = 39103)"
   ]
  },
  {
   "cell_type": "markdown",
   "id": "8626759f",
   "metadata": {},
   "source": [
    "## COMPUTE THE MEANS"
   ]
  },
  {
   "cell_type": "code",
   "execution_count": 8,
   "id": "ad5c1e1f",
   "metadata": {},
   "outputs": [
    {
     "data": {
      "text/plain": [
       "70.82900000000001"
      ]
     },
     "execution_count": 8,
     "metadata": {},
     "output_type": "execute_result"
    }
   ],
   "source": [
    "sampled_state21['OVERALL_LI'].mean()"
   ]
  },
  {
   "cell_type": "code",
   "execution_count": 9,
   "id": "4d2bd733",
   "metadata": {},
   "outputs": [
    {
     "data": {
      "text/plain": [
       "64.60100000000001"
      ]
     },
     "execution_count": 9,
     "metadata": {},
     "output_type": "execute_result"
    }
   ],
   "source": [
    "sampled_state28['OVERALL_LI']. mean()"
   ]
  },
  {
   "cell_type": "markdown",
   "id": "3c4b3524",
   "metadata": {},
   "source": [
    "STATE21 has a mean district literacy rate of about **70.8%**, while STATE28 has a mean district literacy rate of about **64.6%**.\n",
    "\n",
    "Based on your sample data, the observed difference between the mean district literacy rates of STATE21 and STATE28 is 6.2 percentage points (70.8% - 64.6%). \n",
    "\n",
    "Due to sample variability, this observed difference might simple be due to chance, rather than an actual difference in the corresponding population means. A hypothesis test can help us determine whether or not this difference is statistically significant."
   ]
  },
  {
   "cell_type": "markdown",
   "id": "16546c3a",
   "metadata": {},
   "source": [
    "## CONDUCT A HYPOTHESIS TEST\n",
    "\n",
    "### State the null hypothesis \n",
    "\n",
    "- 𝐻0: There is no difference in the mean district literacy rates between STATE21 and STATE28.\n",
    "- 𝐻𝐴: There is a difference in the mean district literacy rates between STATE21 and STATE28.\n",
    "\n",
    "### Choose the significance level\n",
    "\n",
    "- standard level of 5% (0.05)\n",
    "\n",
    "### Find the p-value\n",
    "\n",
    "**P-value** refers to the probability of observing results as or more extreme than those observed when the null hypothesis is true.\n",
    "\n",
    "Based on your sample data, the difference between the mean district literacy rates of STATE21 and STATE28 is 6.2 percentage points. Your null hypothesis claims that this difference is due to chance. Your p-value is the probability of observing an absolute difference in sample means that is 6.2 or greater *if* the null hypothesis is true. If the probability of this outcome is very unlikely—in particular, if your p-value is *less than* your significance level of 5%— then you will reject the null hypothesis."
   ]
  },
  {
   "cell_type": "code",
   "execution_count": 10,
   "id": "2f38af24",
   "metadata": {},
   "outputs": [
    {
     "data": {
      "text/plain": [
       "Ttest_indResult(statistic=2.8980444277268735, pvalue=0.0064217191427652365)"
      ]
     },
     "execution_count": 10,
     "metadata": {},
     "output_type": "execute_result"
    }
   ],
   "source": [
    "stats.ttest_ind(a = sampled_state21['OVERALL_LI'],\n",
    "               b = sampled_state28['OVERALL_LI'],\n",
    "               equal_var = False)"
   ]
  },
  {
   "cell_type": "markdown",
   "id": "c413d65a",
   "metadata": {},
   "source": [
    "***p-value = 0.0064 // 0.64% *** \n",
    "\n",
    "Meaning --> there is only a 0.64% probability that the absolute difference between the two mean district literacy rates would be 6.2% or greater if the null hypothesis was true. That is, it is highly unlikely that the difference in the two means is due to chance. "
   ]
  },
  {
   "cell_type": "markdown",
   "id": "cc87a9a2",
   "metadata": {},
   "source": [
    "### Reject or fail to reject the null hypothesis\n",
    "\n",
    "To draw a conclusion, compare your p-value with the significance level:\n",
    "\n",
    "- if the p-value is less than the significance level, you can conclude that there is a statistically significant difference in the mean district literacy rates between STATE21 and STATE28 --> **Reject the null hypothesis**\n",
    "- if the p-value is greater than the significance level, you can conclude that there is *not* a statistically significant difference in the mean district literacy rates between STATE21 and STATE28 --> **Fail to reject the null hypothesis**\n",
    "\n",
    "The p-value of our data is **0.0064** which is less htan the threshold of 0.05. Therefore, we can **reject the null hypothesis**  and we can say that there is a statistically signifcant difference between the mean district literacy rates of the two states."
   ]
  }
 ],
 "metadata": {
  "kernelspec": {
   "display_name": "Python 3 (ipykernel)",
   "language": "python",
   "name": "python3"
  },
  "language_info": {
   "codemirror_mode": {
    "name": "ipython",
    "version": 3
   },
   "file_extension": ".py",
   "mimetype": "text/x-python",
   "name": "python",
   "nbconvert_exporter": "python",
   "pygments_lexer": "ipython3",
   "version": "3.11.5"
  }
 },
 "nbformat": 4,
 "nbformat_minor": 5
}
