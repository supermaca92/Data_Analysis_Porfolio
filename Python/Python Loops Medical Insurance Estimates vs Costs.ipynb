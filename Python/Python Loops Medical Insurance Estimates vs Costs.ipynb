{
 "cells": [
  {
   "cell_type": "markdown",
   "id": "3065e123",
   "metadata": {},
   "source": [
    "# Python Loops: Medical Insurance Estimates vs. Costs Project"
   ]
  },
  {
   "cell_type": "markdown",
   "id": "3b8c8fc2",
   "metadata": {},
   "source": [
    "You are interested in analyzing medical insurance cost data efficiently without writing repetitive code.\n",
    "\n",
    "In this project, you will use your new knowledge of Python loops to iterate through and analyze medical insurance cost data.\n",
    "\n",
    "Let's get started!"
   ]
  },
  {
   "cell_type": "markdown",
   "id": "b2d3f72c",
   "metadata": {},
   "source": [
    "## Creating a For Loop"
   ]
  },
  {
   "cell_type": "markdown",
   "id": "4af76082",
   "metadata": {},
   "source": [
    "1. First, let's take a look at three lists in the code block below:\n",
    "   - `names` stores the names of seven individuals.\n",
    "   - `estimated_insurance_costs` stores the estimated medical insurance costs for the individuals.\n",
    "   - `actual_insurance_costs` stores the actual insurance costs paid by the individuals.\n",
    "   \n",
    "   We want to calculate the average insurance cost each person paid. We'll start by adding up all of the insurance costs.\n",
    "   \n",
    "   Create a variable `total_cost` and initialize it to `0`."
   ]
  },
  {
   "cell_type": "code",
   "execution_count": 41,
   "id": "942629ef",
   "metadata": {},
   "outputs": [],
   "source": [
    "names = [\"Judith\", \"Abel\", \"Tyson\", \"Martha\", \"Beverley\", \"David\", \"Anabel\"]\n",
    "estimated_insurance_costs = [1000.0, 2000.0, 3000.0, 4000.0, 5000.0, 6000.0, 7000.0]\n",
    "actual_insurance_costs = [1100.0, 2200.0, 3300.0, 4400.0, 5500.0, 6600.0, 7700.0]\n",
    "total_cost = 0"
   ]
  },
  {
   "cell_type": "markdown",
   "id": "acfa961f",
   "metadata": {},
   "source": [
    "2. Use a `for` loop to iterate through `actual_insurance_costs` and add each insurance cost to the variable `total_cost`."
   ]
  },
  {
   "cell_type": "code",
   "execution_count": 42,
   "id": "7572afff",
   "metadata": {},
   "outputs": [],
   "source": [
    "for cost in actual_insurance_costs:\n",
    "    total_cost += cost"
   ]
  },
  {
   "cell_type": "markdown",
   "id": "3bbc62d7",
   "metadata": {},
   "source": [
    "3. After the `for` loop, create a variable called `average_cost` that stores the `total_cost` divided by the length of the `actual_insurance_costs` list."
   ]
  },
  {
   "cell_type": "code",
   "execution_count": 43,
   "id": "bb393759",
   "metadata": {},
   "outputs": [],
   "source": [
    "average_cost = total_cost/len(actual_insurance_costs)"
   ]
  },
  {
   "cell_type": "markdown",
   "id": "9020ae01",
   "metadata": {},
   "source": [
    "4. Print `average_cost` with the following message:\n",
    "\n",
    "   ```\n",
    "   Average Insurance Cost: <average_cost> dollars.\n",
    "   ```"
   ]
  },
  {
   "cell_type": "code",
   "execution_count": 44,
   "id": "cb2abd2f",
   "metadata": {},
   "outputs": [
    {
     "name": "stdout",
     "output_type": "stream",
     "text": [
      "Average Insurance Cost: 4400.0 dollards.\n"
     ]
    }
   ],
   "source": [
    "print(\"Average Insurance Cost: \" + str(average_cost) + \" dollards.\")"
   ]
  },
  {
   "cell_type": "markdown",
   "id": "8bd4231a",
   "metadata": {},
   "source": [
    "## Using Range in Loops"
   ]
  },
  {
   "cell_type": "markdown",
   "id": "643ebe21",
   "metadata": {},
   "source": [
    "5. For each individual in `names`, we want to determine whether their insurance cost is above or below average.\n",
    "\n",
    "   Write a `for` loop with variable `i` that goes from `0` to `len(names)`.\n",
    "   \n",
    "   **Note:** If you run this loop it will return an error because there is currently no code inside of the loop. We'll fix this in the next step."
   ]
  },
  {
   "cell_type": "markdown",
   "id": "9494673d",
   "metadata": {},
   "source": [
    "6. Inside of the `for` loop, do the following:\n",
    "   - Create a variable `name`, which stores `names[i]`.\n",
    "   - Create a variable `insurance_cost`, which stores `actual_insurance_costs[i]`.\n",
    "   - Print out the insurance cost for each individual, with the following message:\n",
    "   ```\n",
    "   The insurance cost for <name> is <insurance_cost> dollars.\n",
    "   ```"
   ]
  },
  {
   "cell_type": "code",
   "execution_count": 45,
   "id": "7f9065e5",
   "metadata": {},
   "outputs": [
    {
     "name": "stdout",
     "output_type": "stream",
     "text": [
      "The insurance cost for Judithis 1100.0 dollars.\n",
      "The insurance cost for Abelis 2200.0 dollars.\n",
      "The insurance cost for Tysonis 3300.0 dollars.\n",
      "The insurance cost for Marthais 4400.0 dollars.\n",
      "The insurance cost for Beverleyis 5500.0 dollars.\n",
      "The insurance cost for Davidis 6600.0 dollars.\n",
      "The insurance cost for Anabelis 7700.0 dollars.\n"
     ]
    }
   ],
   "source": [
    "for i in range(len(names)):\n",
    "    name = names[i]\n",
    "    insurance_cost = actual_insurance_costs[i]\n",
    "    print(\"The insurance cost for \" + str(name) + \"is \" + str(insurance_cost) + \" dollars.\")"
   ]
  },
  {
   "cell_type": "markdown",
   "id": "4f76f415",
   "metadata": {},
   "source": [
    "7. Observe the result above.\n",
    "\n",
    "   You should see the insurance costs for each of the seven individuals in `names`. The `for` loop iterated through the entire list and printed out the insurance cost for each individual."
   ]
  },
  {
   "cell_type": "markdown",
   "id": "ca6c71d9",
   "metadata": {},
   "source": [
    "## Conditions inside a Loop"
   ]
  },
  {
   "cell_type": "markdown",
   "id": "a6570594",
   "metadata": {},
   "source": [
    "8. Inside of the `for` loop, use `if`, `elif`, `else` statements after the `print` statement to check whether the insurance cost is above, below, or equal to the average. Print out messages for each case:\n",
    "   - When `insurance_cost` is higher than the average, print out the following:\n",
    "   ```\n",
    "   The insurance cost for <name> is above average.\n",
    "   ```\n",
    "   - When `insurance_cost` is lower than the average, print out the following:\n",
    "   ```\n",
    "   The insurance cost for <name> is below average.\n",
    "   ```\n",
    "   - Otherwise, print out the following:\n",
    "   ```\n",
    "   The insurance cost for <name> is equal to the average.\n",
    "   ```"
   ]
  },
  {
   "cell_type": "code",
   "execution_count": 46,
   "id": "93ffface",
   "metadata": {},
   "outputs": [
    {
     "name": "stdout",
     "output_type": "stream",
     "text": [
      "The insurance cost for Judith is below average.\n",
      "The insurance cost for Abel is below average.\n",
      "The insurance cost for Tyson is below average.\n",
      "The insurance cost for Marthais equal to the average.\n",
      "The insurance cost for Beverley is above average.\n",
      "The insurance cost for David is above average.\n",
      "The insurance cost for Anabel is above average.\n"
     ]
    }
   ],
   "source": [
    "for i in range(len(names)):\n",
    "    name = names[i]\n",
    "    insurance_cost = actual_insurance_costs[i]\n",
    "    if insurance_cost > average_cost:\n",
    "        print(\"The insurance cost for \" + str(name) + \" is above average.\")\n",
    "    elif insurance_cost < average_cost:\n",
    "        print(\"The insurance cost for \" + str(name) + \" is below average.\")\n",
    "    else:\n",
    "        print(\"The insurance cost for \" + str(name) + \"is equal to the average.\")"
   ]
  },
  {
   "cell_type": "markdown",
   "id": "e62cd4bb",
   "metadata": {},
   "source": [
    "9. Observe the output above.\n",
    "\n",
    "   You should see messages indicating the insurance cost for each of the seven individuals and where their insurance cost stands relative to the average."
   ]
  },
  {
   "cell_type": "markdown",
   "id": "82e664df",
   "metadata": {},
   "source": [
    "## Creating a List Comprehension"
   ]
  },
  {
   "cell_type": "markdown",
   "id": "dde1e68d",
   "metadata": {},
   "source": [
    "10. If you look closely at `actual_insurance_costs` and `estimated_insurance_costs`, you will notice that each of the actual insurance costs is 10% higher than the estimated insurance costs.\n",
    " \n",
    "    Using a list comprehension, create a new list called `updated_estimated_costs`, which has each element in `estimated_insurance_costs` multiplied by `11/10`."
   ]
  },
  {
   "cell_type": "code",
   "execution_count": 47,
   "id": "b5602da4",
   "metadata": {},
   "outputs": [],
   "source": [
    "updated_estimated_costs = [num * 11/10 for num in estimated_insurance_costs]"
   ]
  },
  {
   "cell_type": "markdown",
   "id": "eeb071e3",
   "metadata": {},
   "source": [
    "11. Print `updated_estimated_costs`.\n",
    "\n",
    "    You should see that the list now looks the same as `actual_insurance_costs`."
   ]
  },
  {
   "cell_type": "code",
   "execution_count": 48,
   "id": "6dc117e9",
   "metadata": {},
   "outputs": [
    {
     "name": "stdout",
     "output_type": "stream",
     "text": [
      "[1100.0, 2200.0, 3300.0, 4400.0, 5500.0, 6600.0, 7700.0]\n"
     ]
    }
   ],
   "source": [
    "print(updated_estimated_costs)"
   ]
  },
  {
   "cell_type": "markdown",
   "id": "f57d79ac",
   "metadata": {},
   "source": [
    "## Extra"
   ]
  },
  {
   "cell_type": "markdown",
   "id": "bc6c0a65",
   "metadata": {},
   "source": [
    "12. Congratulations! In this project, you used Python loops to iterate through and analyze medical insurance cost data.\n",
    "\n",
    "    As a data scientist, you want to be able to easily and efficiently go through data and perform analysis on that data without having to write repetitive code. Loops are a great place to start.\n",
    "    \n",
    "    If you'd like extra practice with Python loops, here are some suggestions to get you started:\n",
    "    - Convert the first `for` loop in the code to a `while` loop.\n",
    "    - Modify the second `for` loop so that it also calculates how far above or below the average estimated insurance cost is.\n",
    "    \n",
    "    Happy coding!"
   ]
  },
  {
   "cell_type": "code",
   "execution_count": 49,
   "id": "7aac3b39",
   "metadata": {},
   "outputs": [
    {
     "name": "stdout",
     "output_type": "stream",
     "text": [
      "30800.0\n"
     ]
    }
   ],
   "source": [
    "## Modifying a for loop into a while loop\n",
    "\n",
    "total_cost = 0\n",
    "index = 0\n",
    "\n",
    "while index < len(actual_insurance_costs):\n",
    "  total_cost += actual_insurance_costs[index]\n",
    "  index += 1\n",
    "    \n",
    "print(total_cost)"
   ]
  },
  {
   "cell_type": "code",
   "execution_count": 50,
   "id": "f2aec3a3",
   "metadata": {},
   "outputs": [
    {
     "name": "stdout",
     "output_type": "stream",
     "text": [
      "The insurance cost for Judith is -3300.0 dollars below average.\n",
      "The insurance cost for Abel is -2200.0 dollars below average.\n",
      "The insurance cost for Tyson is -1100.0 dollars below average.\n",
      "The insurance cost for Marthais equal to the average.\n",
      "The insurance cost for Beverley is 1100.0 dollars above average.\n",
      "The insurance cost for David is 2200.0 dollars above average.\n",
      "The insurance cost for Anabel is 3300.0 dollars above average.\n"
     ]
    }
   ],
   "source": [
    "## Add extra calculations in a for loop\n",
    "\n",
    "for i in range(len(names)):\n",
    "    name = names[i]\n",
    "    insurance_cost = actual_insurance_costs[i]\n",
    "    how_much = insurance_cost - average_cost\n",
    "    if insurance_cost > average_cost:\n",
    "        print(\"The insurance cost for \" + str(name) + \" is \" + str(how_much) + \" dollars above average.\")\n",
    "    elif insurance_cost < average_cost:\n",
    "        print(\"The insurance cost for \" + str(name) + \" is \" + str(how_much) + \" dollars below average.\")\n",
    "    else:\n",
    "        print(\"The insurance cost for \" + str(name) + \"is equal to the average.\")"
   ]
  },
  {
   "cell_type": "code",
   "execution_count": 51,
   "id": "7f711050",
   "metadata": {},
   "outputs": [
    {
     "name": "stdout",
     "output_type": "stream",
     "text": [
      "The insurance cost for Marthais equal to the average.\n",
      "The insurance cost for Beverley is 1100.0 dollars above average.\n",
      "The insurance cost for David is 2200.0 dollars above average.\n",
      "The insurance cost for Anabel is 3300.0 dollars above average.\n"
     ]
    }
   ],
   "source": [
    "## Another way\n",
    "\n",
    "for i in range(len(names)):\n",
    "    name = names[i]\n",
    "    insurance_cost = actual_insurance_costs[i]\n",
    "    if insurance_cost > average_cost:\n",
    "        high = insurance_cost - average_cost\n",
    "        print(\"The insurance cost for \" + str(name) + \" is \" + str(high) + \" dollars above average.\")\n",
    "    elif insurance_cost < average_cost:\n",
    "        low = average_cost - insurance_cost\n",
    "    else:\n",
    "        print(\"The insurance cost for \" + str(name) + \"is equal to the average.\")\n"
   ]
  }
 ],
 "metadata": {
  "kernelspec": {
   "display_name": "Python 3 (ipykernel)",
   "language": "python",
   "name": "python3"
  },
  "language_info": {
   "codemirror_mode": {
    "name": "ipython",
    "version": 3
   },
   "file_extension": ".py",
   "mimetype": "text/x-python",
   "name": "python",
   "nbconvert_exporter": "python",
   "pygments_lexer": "ipython3",
   "version": "3.11.5"
  }
 },
 "nbformat": 4,
 "nbformat_minor": 5
}
